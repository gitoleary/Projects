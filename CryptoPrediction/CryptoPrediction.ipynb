{
 "cells": [
  {
   "cell_type": "code",
   "execution_count": 2,
   "id": "073829c7",
   "metadata": {},
   "outputs": [],
   "source": [
    "import numpy as np\n",
    "import matplotlib.pyplot as plt\n",
    "import pandas as pd\n",
    "import pandas_datareader as web\n",
    "import datetime as dt\n",
    "\n",
    "from sklearn.preprocessing import MinMaxScaler\n",
    "from tensorflow.keras.layers import Dense, Dropout, LSTM\n",
    "from tensorflow.keras.models import Sequential"
   ]
  },
  {
   "cell_type": "code",
   "execution_count": 4,
   "id": "2c9eb48e",
   "metadata": {},
   "outputs": [],
   "source": [
    "crypto_currency = 'ETH'\n",
    "against_currency = 'USD'\n",
    "\n",
    "start = dt.datetime(2016,1,1)\n",
    "end = dt.datetime.now()\n",
    "\n",
    "data = web.DataReader(f'{crypto_currency}-{against_currency}', 'yahoo', start, end)"
   ]
  },
  {
   "cell_type": "code",
   "execution_count": 8,
   "id": "990a8175",
   "metadata": {},
   "outputs": [
    {
     "name": "stdout",
     "output_type": "stream",
     "text": [
      "                   High          Low         Open        Close        Volume  \\\n",
      "Date                                                                           \n",
      "2016-01-01     0.954822     0.931442     0.933712     0.948024  2.060620e+05   \n",
      "2016-01-02     0.969637     0.936560     0.947401     0.937124  2.555040e+05   \n",
      "2016-01-03     0.991362     0.934313     0.938430     0.971905  4.076320e+05   \n",
      "2016-01-04     0.976438     0.929835     0.972045     0.954480  3.462450e+05   \n",
      "2016-01-05     0.970597     0.946543     0.953147     0.950176  2.198330e+05   \n",
      "...                 ...          ...          ...          ...           ...   \n",
      "2021-08-21  3272.733154  3142.007080  3226.227295  3242.115479  1.598328e+10   \n",
      "2021-08-22  3373.384277  3235.851318  3241.357422  3319.257324  2.051111e+10   \n",
      "2021-08-23  3358.688232  3154.121338  3324.855469  3172.456299  2.013103e+10   \n",
      "2021-08-24  3248.727295  3086.114990  3174.269775  3224.915283  1.890273e+10   \n",
      "2021-08-26  3247.775391  3062.338867  3229.452148  3125.549561  1.789302e+10   \n",
      "\n",
      "              Adj Close  \n",
      "Date                     \n",
      "2016-01-01     0.948024  \n",
      "2016-01-02     0.937124  \n",
      "2016-01-03     0.971905  \n",
      "2016-01-04     0.954480  \n",
      "2016-01-05     0.950176  \n",
      "...                 ...  \n",
      "2021-08-21  3242.115479  \n",
      "2021-08-22  3319.257324  \n",
      "2021-08-23  3172.456299  \n",
      "2021-08-24  3224.915283  \n",
      "2021-08-26  3125.549561  \n",
      "\n",
      "[2061 rows x 6 columns]\n"
     ]
    }
   ],
   "source": [
    "print(data)"
   ]
  },
  {
   "cell_type": "code",
   "execution_count": 9,
   "id": "542d7466",
   "metadata": {},
   "outputs": [],
   "source": [
    "#Prepare Data\n",
    "scaler = MinMaxScaler(feature_range=(0,1))\n",
    "scaled_data = scaler.fit_transform(data['Close'].values.reshape(-1,1))"
   ]
  },
  {
   "cell_type": "code",
   "execution_count": 11,
   "id": "52a6c027",
   "metadata": {},
   "outputs": [],
   "source": [
    "#Seperate training data\n",
    "prediction_days = 60\n",
    "\n",
    "x_train, y_train = [], []\n",
    "\n",
    "for x in range(prediction_days, len(scaled_data)):\n",
    "    x_train.append(scaled_data[x-prediction_days:x, 0])\n",
    "    y_train.append(scaled_data[x, 0])\n",
    "    \n",
    "x_train, y_train = np.array(x_train), np.array(y_train)\n",
    "x_train = np.reshape(x_train, (x_train.shape[0], x_train.shape[1],1))"
   ]
  },
  {
   "cell_type": "code",
   "execution_count": 15,
   "id": "ec7eaaf5",
   "metadata": {},
   "outputs": [],
   "source": [
    "#Create the Model\n",
    "model = Sequential()\n",
    "\n",
    "model.add(LSTM(units=50, return_sequences=True, input_shape=(x_train.shape[1],1)))\n",
    "model.add(Dropout(0.2))\n",
    "model.add(LSTM(units=50, return_sequences=True))\n",
    "model.add(Dropout(0.2))\n",
    "model.add(LSTM(units=50))\n",
    "model.add(Dropout(0.2))\n",
    "model.add(Dense(units=1))\n",
    "\n",
    "model.compile(optimizer=\"adam\", loss=\"mean_squared_error\")"
   ]
  },
  {
   "cell_type": "code",
   "execution_count": 16,
   "id": "85538051",
   "metadata": {
    "scrolled": true
   },
   "outputs": [
    {
     "name": "stdout",
     "output_type": "stream",
     "text": [
      "Epoch 1/25\n",
      "63/63 [==============================] - 11s 20ms/step - loss: 0.0045\n",
      "Epoch 2/25\n",
      "63/63 [==============================] - 1s 19ms/step - loss: 0.0019\n",
      "Epoch 3/25\n",
      "63/63 [==============================] - 1s 19ms/step - loss: 0.0016\n",
      "Epoch 4/25\n",
      "63/63 [==============================] - 1s 18ms/step - loss: 0.0021\n",
      "Epoch 5/25\n",
      "63/63 [==============================] - 1s 19ms/step - loss: 0.0013\n",
      "Epoch 6/25\n",
      "63/63 [==============================] - 1s 19ms/step - loss: 0.0011\n",
      "Epoch 7/25\n",
      "63/63 [==============================] - 1s 19ms/step - loss: 0.0012\n",
      "Epoch 8/25\n",
      "63/63 [==============================] - 1s 19ms/step - loss: 0.0012\n",
      "Epoch 9/25\n",
      "63/63 [==============================] - 1s 20ms/step - loss: 0.0011\n",
      "Epoch 10/25\n",
      "63/63 [==============================] - 1s 18ms/step - loss: 0.0013\n",
      "Epoch 11/25\n",
      "63/63 [==============================] - 1s 19ms/step - loss: 0.0010\n",
      "Epoch 12/25\n",
      "63/63 [==============================] - 1s 19ms/step - loss: 9.0081e-04\n",
      "Epoch 13/25\n",
      "63/63 [==============================] - 1s 19ms/step - loss: 8.1141e-04\n",
      "Epoch 14/25\n",
      "63/63 [==============================] - 1s 19ms/step - loss: 7.4964e-04\n",
      "Epoch 15/25\n",
      "63/63 [==============================] - 1s 20ms/step - loss: 8.1301e-04\n",
      "Epoch 16/25\n",
      "63/63 [==============================] - 1s 19ms/step - loss: 6.2679e-04\n",
      "Epoch 17/25\n",
      "63/63 [==============================] - 1s 18ms/step - loss: 9.5755e-04\n",
      "Epoch 18/25\n",
      "63/63 [==============================] - 1s 21ms/step - loss: 7.5945e-04\n",
      "Epoch 19/25\n",
      "63/63 [==============================] - 1s 19ms/step - loss: 6.3472e-04\n",
      "Epoch 20/25\n",
      "63/63 [==============================] - 1s 18ms/step - loss: 7.8325e-04\n",
      "Epoch 21/25\n",
      "63/63 [==============================] - 1s 19ms/step - loss: 7.7830e-04\n",
      "Epoch 22/25\n",
      "63/63 [==============================] - 1s 18ms/step - loss: 6.8336e-04\n",
      "Epoch 23/25\n",
      "63/63 [==============================] - 1s 18ms/step - loss: 7.0486e-04\n",
      "Epoch 24/25\n",
      "63/63 [==============================] - 1s 20ms/step - loss: 7.2173e-04\n",
      "Epoch 25/25\n",
      "63/63 [==============================] - 1s 18ms/step - loss: 6.8237e-04\n"
     ]
    },
    {
     "data": {
      "text/plain": [
       "<tensorflow.python.keras.callbacks.History at 0x21180a2f910>"
      ]
     },
     "execution_count": 16,
     "metadata": {},
     "output_type": "execute_result"
    }
   ],
   "source": [
    "model.fit(x_train, y_train, epochs=25, batch_size=32)"
   ]
  },
  {
   "cell_type": "code",
   "execution_count": 18,
   "id": "4b03a469",
   "metadata": {},
   "outputs": [],
   "source": [
    "#Evaluate the Model\n",
    "test_start = dt.datetime(2020,1,1)\n",
    "test_end = dt.datetime.now()\n",
    "\n",
    "test_data = web.DataReader(f'{crypto_currency}-{against_currency}', 'yahoo', test_start, test_end)\n",
    "\n",
    "actual_prices = test_data['Close'].values\n",
    "\n",
    "total_dataset = pd.concat((data['Close'], test_data['Close']),axis=0)\n",
    "\n",
    "model_inputs = total_dataset[len(total_dataset) - len(test_data) - prediction_days:].values\n",
    "model_inputs = model_inputs.reshape(-1, 1)\n",
    "model_inputs = scaler.fit_transform(model_inputs)"
   ]
  },
  {
   "cell_type": "code",
   "execution_count": 20,
   "id": "9c4a783c",
   "metadata": {},
   "outputs": [],
   "source": [
    "x_test = []\n",
    "\n",
    "for x in range(prediction_days, len(model_inputs)):\n",
    "    x_test.append(model_inputs[x-prediction_days:x, 0])\n",
    "    \n",
    "x_test = np.array(x_test)\n",
    "x_test = np.reshape(x_test, (x_test.shape[0], x_test.shape[1], 1))"
   ]
  },
  {
   "cell_type": "code",
   "execution_count": 21,
   "id": "ecce1b3b",
   "metadata": {},
   "outputs": [],
   "source": [
    "#Prediction Prices\n",
    "prediction_prices = model.predict(x_test)\n",
    "prediction_prices = scaler.inverse_transform(prediction_prices)"
   ]
  },
  {
   "cell_type": "code",
   "execution_count": 23,
   "id": "07c2188e",
   "metadata": {},
   "outputs": [
    {
     "data": {
      "image/png": "[encoded data removed]",
      "text/plain": [
       "<Figure size 432x288 with 1 Axes>"
      ]
     },
     "metadata": {
      "needs_background": "light"
     },
     "output_type": "display_data"
    }
   ],
   "source": [
    "plt.plot(actual_prices, color=\"black\", label=\"Actual Prices\")\n",
    "plt.plot(prediction_prices, color=\"green\", label=\"Predicted Prices\")\n",
    "plt.title(\"Price Predition vs Actual Prices\")\n",
    "plt.xlabel(\"Time\")\n",
    "plt.ylabel(\"Price\")\n",
    "plt.legend(loc=\"upper left\")\n",
    "plt.show()"
   ]
  },
  {
   "cell_type": "code",
   "execution_count": 25,
   "id": "0130387a",
   "metadata": {},
   "outputs": [
    {
     "name": "stdout",
     "output_type": "stream",
     "text": [
      "[[3215.1592]]\n"
     ]
    }
   ],
   "source": [
    "#Predict next day\n",
    "real_data = [model_inputs[len(model_inputs) + 1 - prediction_days:len(model_inputs) + 1, 0]]\n",
    "real_data = np.array(real_data)\n",
    "real_data = np.reshape(real_data, (real_data.shape[0], real_data.shape[1], 1))\n",
    "\n",
    "prediction = model.predict(real_data)\n",
    "prediction = scaler.inverse_transform(prediction)\n",
    "print(prediction)"
   ]
  },
  {
   "cell_type": "code",
   "execution_count": null,
   "id": "0982084c",
   "metadata": {},
   "outputs": [],
   "source": []
  }
 ],
 "metadata": {
  "kernelspec": {
   "display_name": "Python 3",
   "language": "python",
   "name": "python3"
  },
  "language_info": {
   "codemirror_mode": {
    "name": "ipython",
    "version": 3
   },
   "file_extension": ".py",
   "mimetype": "text/x-python",
   "name": "python",
   "nbconvert_exporter": "python",
   "pygments_lexer": "ipython3",
   "version": "3.8.10"
  }
 },
 "nbformat": 4,
 "nbformat_minor": 5
}
